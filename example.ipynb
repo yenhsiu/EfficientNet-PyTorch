{
 "cells": [
  {
   "cell_type": "markdown",
   "metadata": {},
   "source": [
    "## Example\n",
    "\n",
    "In this simple example, we load an image, pre-process it, and classify it with a pretrained EfficientNet."
   ]
  },
  {
   "cell_type": "code",
   "execution_count": 4,
   "metadata": {},
   "outputs": [],
   "source": [
    "import json\n",
    "from PIL import Image\n",
    "\n",
    "import torch\n",
    "from torchvision import transforms\n",
    "\n",
    "from efficientnet_pytorch import EfficientNet"
   ]
  },
  {
   "cell_type": "code",
   "execution_count": 5,
   "metadata": {},
   "outputs": [],
   "source": [
    "model_name = 'efficientnet-b7'\n",
    "image_size = EfficientNet.get_image_size(model_name)"
   ]
  },
  {
   "cell_type": "code",
   "execution_count": 6,
   "metadata": {},
   "outputs": [],
   "source": [
    "# Open image\n",
    "img = Image.open('img.jpg')\n",
    "# img"
   ]
  },
  {
   "cell_type": "code",
   "execution_count": 7,
   "metadata": {
    "scrolled": true
   },
   "outputs": [],
   "source": [
    "# Preprocess image\n",
    "tfms = transforms.Compose([transforms.Resize(image_size), transforms.CenterCrop(image_size), \n",
    "                           transforms.ToTensor(),\n",
    "                           transforms.Normalize([0.485, 0.456, 0.406], [0.229, 0.224, 0.225]),])\n",
    "img = tfms(img).unsqueeze(0)"
   ]
  },
  {
   "cell_type": "code",
   "execution_count": 8,
   "metadata": {},
   "outputs": [],
   "source": [
    "# Load class names\n",
    "labels_map = json.load(open('labels_map.txt'))\n",
    "labels_map = [labels_map[str(i)] for i in range(1000)]\n",
    "# print(len(labels_map))"
   ]
  },
  {
   "cell_type": "code",
   "execution_count": 9,
   "metadata": {},
   "outputs": [
    {
     "name": "stdout",
     "output_type": "stream",
     "text": [
      "Loaded pretrained weights for efficientnet-b7\n"
     ]
    }
   ],
   "source": [
    "model = EfficientNet.from_pretrained(model_name)\n",
    "endpoints = model.extract_endpoints(img)\n",
    "image_tensors = []\n",
    "image_tensors.extend(img.flatten().shape)\n",
    "for endp in endpoints:\n",
    "    image_tensors.extend(endpoints[endp].flatten().shape)\n"
   ]
  },
  {
   "cell_type": "code",
   "execution_count": 10,
   "metadata": {},
   "outputs": [
    {
     "name": "stdout",
     "output_type": "stream",
     "text": [
      "[1080000, 2880000, 1080000, 450000, 323456, 231040, 924160]\n"
     ]
    },
    {
     "data": {
      "image/png": "[encoded data removed]",
      "text/plain": [
       "<Figure size 432x288 with 1 Axes>"
      ]
     },
     "metadata": {
      "needs_background": "light"
     },
     "output_type": "display_data"
    }
   ],
   "source": [
    "import matplotlib.pyplot as plt \n",
    "print(image_tensors)\n",
    "names = [\"input layer\"]\n",
    "names.extend(list(endpoints.keys()))\n",
    "plt.plot(names, image_tensors, color='red')\n",
    "plt.xticks(rotation=45)\n",
    "plt.grid()\n",
    "plt.show()"
   ]
  },
  {
   "cell_type": "code",
   "execution_count": 11,
   "metadata": {
    "scrolled": true
   },
   "outputs": [
    {
     "name": "stdout",
     "output_type": "stream",
     "text": [
      "-----\n",
      "388 giant panda, panda, panda bear, coon bear, Ailuropoda melanoleuca           (81.32%)\n",
      "387 lesser panda, red panda, panda, bear cat, cat bear, Ailurus fulgens         (0.39%)\n",
      "295 American black bear, black bear, Ursus americanus, Euarctos americanus      (0.28%)\n",
      "294 brown bear, bruin, Ursus arctos                                             (0.15%)\n",
      "296 ice bear, polar bear, Ursus Maritimus, Thalarctos maritimus                 (0.14%)\n"
     ]
    }
   ],
   "source": [
    "# Classify with EfficientNet\n",
    "model.eval() #dont activate \"Batch Normalization and Dropout\"\n",
    "with torch.no_grad():#停止梯度的更新 Stop gradient renew \n",
    "    logits = model(img)\n",
    "preds = torch.topk(logits, k=5).indices.squeeze(0).tolist()\n",
    "# print(preds)\n",
    "print('-----')\n",
    "for idx in preds:\n",
    "    label = labels_map[idx]\n",
    "    prob = torch.softmax(logits, dim=1)[0, idx].item()\n",
    "    print('{} {:<75} ({:.2f}%)'.format(idx, label, prob*100))"
   ]
  },
  {
   "cell_type": "code",
   "execution_count": null,
   "metadata": {},
   "outputs": [],
   "source": []
  }
 ],
 "metadata": {
  "kernelspec": {
   "display_name": "Python 3",
   "language": "python",
   "name": "python3"
  },
  "language_info": {
   "codemirror_mode": {
    "name": "ipython",
    "version": 3
   },
   "file_extension": ".py",
   "mimetype": "text/x-python",
   "name": "python",
   "nbconvert_exporter": "python",
   "pygments_lexer": "ipython3",
   "version": "3.9.12"
  },
  "vscode": {
   "interpreter": {
    "hash": "5477d114355ccecbdb737e0d999acd89b190672965c20e6535bea2ca2efcea0c"
   }
  }
 },
 "nbformat": 4,
 "nbformat_minor": 2
}
