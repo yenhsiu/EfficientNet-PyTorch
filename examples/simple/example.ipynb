{
 "cells": [
  {
   "cell_type": "markdown",
   "metadata": {},
   "source": [
    "## Example\n",
    "\n",
    "In this simple example, we load an image, pre-process it, and classify it with a pretrained EfficientNet."
   ]
  },
  {
   "cell_type": "code",
   "execution_count": 46,
   "metadata": {},
   "outputs": [],
   "source": [
    "import json\n",
    "from PIL import Image\n",
    "\n",
    "import torch\n",
    "from torchvision import transforms\n",
    "\n",
    "from efficientnet_pytorch import EfficientNet"
   ]
  },
  {
   "cell_type": "code",
   "execution_count": 83,
   "metadata": {},
   "outputs": [],
   "source": [
    "model_name = 'efficientnet-b0'\n",
    "image_size = EfficientNet.get_image_size(model_name) # 224"
   ]
  },
  {
   "cell_type": "code",
   "execution_count": 84,
   "metadata": {},
   "outputs": [],
   "source": [
    "# Open image\n",
    "img = Image.open('img.jpg')\n",
    "# img"
   ]
  },
  {
   "cell_type": "code",
   "execution_count": 85,
   "metadata": {
    "scrolled": true
   },
   "outputs": [],
   "source": [
    "# Preprocess image\n",
    "tfms = transforms.Compose([transforms.Resize(image_size), transforms.CenterCrop(image_size), \n",
    "                           transforms.ToTensor(),\n",
    "                           transforms.Normalize([0.485, 0.456, 0.406], [0.229, 0.224, 0.225]),])\n",
    "img = tfms(img).unsqueeze(0)"
   ]
  },
  {
   "cell_type": "code",
   "execution_count": 86,
   "metadata": {},
   "outputs": [
    {
     "name": "stdout",
     "output_type": "stream",
     "text": [
      "1000\n"
     ]
    }
   ],
   "source": [
    "# Load class names\n",
    "labels_map = json.load(open('labels_map.txt'))\n",
    "labels_map = [labels_map[str(i)] for i in range(1000)]\n",
    "print(len(labels_map))"
   ]
  },
  {
   "cell_type": "code",
   "execution_count": 93,
   "metadata": {},
   "outputs": [],
   "source": [
    "def print_model(module, name=\"model\", depth=0):\n",
    "    if len(list(module.named_children())) == 0:\n",
    "        print(f\"{' ' * depth} {name}: {module}\")\n",
    "    else:\n",
    "        print(f\"{' ' * depth} {name}: {type(module)}\")\n",
    "\n",
    "    for child_name, child_module in module.named_children():\n",
    "        if isinstance(module, torch.nn.Sequential):\n",
    "            child_name = f\"{name}[{child_name}]\"\n",
    "        else:\n",
    "            child_name = f\"{name}.{child_name}\"\n",
    "        print_model(child_module, child_name, depth + 1)\n",
    "    "
   ]
  },
  {
   "cell_type": "code",
   "execution_count": 131,
   "metadata": {},
   "outputs": [
    {
     "name": "stdout",
     "output_type": "stream",
     "text": [
      "Loaded pretrained weights for efficientnet-b1\n"
     ]
    }
   ],
   "source": [
    "model = EfficientNet.from_pretrained(model_name)\n",
    "endpoints = model.extract_endpoints(img)\n",
    "image_tensors = []\n",
    "image_tensors.extend(img.flatten().shape)\n",
    "for endp in endpoints:\n",
    "    image_tensors.extend(endpoints[endp].flatten().shape)\n"
   ]
  },
  {
   "cell_type": "code",
   "execution_count": 137,
   "metadata": {},
   "outputs": [
    {
     "data": {
      "image/png": "[encoded data removed]",
      "text/plain": [
       "<Figure size 432x288 with 1 Axes>"
      ]
     },
     "metadata": {
      "needs_background": "light"
     },
     "output_type": "display_data"
    }
   ],
   "source": [
    "import matplotlib.pyplot as plt \n",
    "names = [\"input layer\"]\n",
    "names.extend(list(endpoints.keys()))\n",
    "plt.plot(names, image_tensors, color='red')\n",
    "plt.xticks(rotation=45)\n",
    "plt.grid()\n",
    "plt.show()"
   ]
  },
  {
   "cell_type": "code",
   "execution_count": 53,
   "metadata": {
    "scrolled": true
   },
   "outputs": [
    {
     "name": "stdout",
     "output_type": "stream",
     "text": [
      "-----\n",
      "388 giant panda, panda, panda bear, coon bear, Ailuropoda melanoleuca           (83.44%)\n",
      "294 brown bear, bruin, Ursus arctos                                             (0.62%)\n",
      "387 lesser panda, red panda, panda, bear cat, cat bear, Ailurus fulgens         (0.60%)\n",
      "296 ice bear, polar bear, Ursus Maritimus, Thalarctos maritimus                 (0.44%)\n",
      "279 Arctic fox, white fox, Alopex lagopus                                       (0.34%)\n"
     ]
    }
   ],
   "source": [
    "# Classify with EfficientNet\n",
    "model.eval() #dont activate \"Batch Normalization and Dropout\"\n",
    "with torch.no_grad():#停止梯度的更新 Stop gradient renew \n",
    "    logits = model(img)\n",
    "preds = torch.topk(logits, k=5).indices.squeeze(0).tolist()\n",
    "# print(preds)\n",
    "print('-----')\n",
    "for idx in preds:\n",
    "    label = labels_map[idx]\n",
    "    prob = torch.softmax(logits, dim=1)[0, idx].item()\n",
    "    print('{} {:<75} ({:.2f}%)'.format(idx, label, prob*100))"
   ]
  },
  {
   "cell_type": "code",
   "execution_count": null,
   "metadata": {},
   "outputs": [],
   "source": []
  }
 ],
 "metadata": {
  "kernelspec": {
   "display_name": "Python 3 (ipykernel)",
   "language": "python",
   "name": "python3"
  },
  "language_info": {
   "codemirror_mode": {
    "name": "ipython",
    "version": 3
   },
   "file_extension": ".py",
   "mimetype": "text/x-python",
   "name": "python",
   "nbconvert_exporter": "python",
   "pygments_lexer": "ipython3",
   "version": "3.9.7"
  },
  "vscode": {
   "interpreter": {
    "hash": "19b282662b1c268299ac55150aa3f005647daceec65f808c6481caf9f4298e4d"
   }
  }
 },
 "nbformat": 4,
 "nbformat_minor": 2
}
