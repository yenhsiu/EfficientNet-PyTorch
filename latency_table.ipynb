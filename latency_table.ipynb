{
 "cells": [
  {
   "cell_type": "code",
   "execution_count": 73,
   "id": "d4667000",
   "metadata": {},
   "outputs": [],
   "source": [
    "import json\n",
    "from PIL import Image\n",
    "import time\n",
    "import torch\n",
    "from torchvision import transforms\n",
    "from efficientnet_pytorch import EfficientNet"
   ]
  },
  {
   "cell_type": "code",
   "execution_count": 74,
   "id": "34bca473",
   "metadata": {},
   "outputs": [
    {
     "name": "stdout",
     "output_type": "stream",
     "text": [
      "Loaded pretrained weights for efficientnet-b0\n",
      "efficientnet-b0  Execution time：3.825911 s\n",
      "Loaded pretrained weights for efficientnet-b1\n",
      "efficientnet-b1  Execution time：6.126880 s\n",
      "Loaded pretrained weights for efficientnet-b2\n",
      "efficientnet-b2  Execution time：7.816362 s\n",
      "Loaded pretrained weights for efficientnet-b3\n",
      "efficientnet-b3  Execution time：13.179877 s\n",
      "Loaded pretrained weights for efficientnet-b4\n",
      "efficientnet-b4  Execution time：27.933980 s\n",
      "Loaded pretrained weights for efficientnet-b5\n",
      "efficientnet-b5  Execution time：57.888956 s\n",
      "Loaded pretrained weights for efficientnet-b6\n",
      "efficientnet-b6  Execution time：102.112427 s\n",
      "Loaded pretrained weights for efficientnet-b7\n",
      "efficientnet-b7  Execution time：186.406312 s\n"
     ]
    }
   ],
   "source": [
    "# Open image\n",
    "model_names = ['efficientnet-b0','efficientnet-b1','efficientnet-b2','efficientnet-b3','efficientnet-b4','efficientnet-b5','efficientnet-b6','efficientnet-b7']\n",
    "\n",
    "model_latencies_dict = {}\n",
    "for m in model_names:\n",
    "    model_name = m\n",
    "    model = EfficientNet.from_pretrained(m)\n",
    "    image_size = EfficientNet.get_image_size(model_name)\n",
    "    # Preprocess image\n",
    "    tfms = transforms.Compose([transforms.Resize(image_size), transforms.CenterCrop(image_size), \n",
    "                           transforms.ToTensor(),\n",
    "                           transforms.Normalize([0.485, 0.456, 0.406], [0.229, 0.224, 0.225]),])\n",
    "    img = Image.open('img.jpg')\n",
    "    img = tfms(img).unsqueeze(0)\n",
    "    model.eval()\n",
    "    \n",
    "    start = time.process_time()\n",
    "    for i in range(50):\n",
    "        with torch.no_grad():\n",
    "            logits = model(img)\n",
    "    end = time.process_time()\n",
    "    print(m,\" Execution time：%f s\" % (end - start))\n",
    "    model_latencies_dict[m] = (end - start)/50"
   ]
  },
  {
   "cell_type": "code",
   "execution_count": 75,
   "id": "9be67bc6",
   "metadata": {},
   "outputs": [
    {
     "name": "stdout",
     "output_type": "stream",
     "text": [
      "{'efficientnet-b0': 0.07651822000000039, 'efficientnet-b1': 0.12253760000000057, 'efficientnet-b2': 0.15632723999999826, 'efficientnet-b3': 0.2635975400000007, 'efficientnet-b4': 0.5586796000000004, 'efficientnet-b5': 1.15777912, 'efficientnet-b6': 2.0422485400000006, 'efficientnet-b7': 3.7281262400000013}\n"
     ]
    }
   ],
   "source": [
    "print(model_latencies_dict)"
   ]
  },
  {
   "cell_type": "code",
   "execution_count": 79,
   "id": "d96aa82f",
   "metadata": {},
   "outputs": [
    {
     "data": {
      "image/png": "[encoded data removed]",
      "text/plain": [
       "<Figure size 432x288 with 1 Axes>"
      ]
     },
     "metadata": {
      "needs_background": "light"
     },
     "output_type": "display_data"
    }
   ],
   "source": [
    "import matplotlib.pyplot as plt \n",
    "names = [\"input layer\"]\n",
    "plt.plot(model_latencies_dict.keys(), model_latencies_dict.values(), color='red')\n",
    "plt.xticks(rotation=45)\n",
    "plt.grid()\n",
    "# plt.show()\n",
    "plt.savefig('model_latencies.png')"
   ]
  },
  {
   "cell_type": "code",
   "execution_count": 80,
   "id": "013273b5",
   "metadata": {},
   "outputs": [],
   "source": [
    "import json\n",
    "\n",
    "# as requested in comment\n",
    "\n",
    "with open('macpro_latenies.txt', 'w') as file:\n",
    "     file.write(json.dumps(model_latencies_dict))"
   ]
  },
  {
   "cell_type": "code",
   "execution_count": null,
   "id": "0b27f53d",
   "metadata": {},
   "outputs": [],
   "source": []
  }
 ],
 "metadata": {
  "kernelspec": {
   "display_name": "Python 3 (ipykernel)",
   "language": "python",
   "name": "python3"
  },
  "language_info": {
   "codemirror_mode": {
    "name": "ipython",
    "version": 3
   },
   "file_extension": ".py",
   "mimetype": "text/x-python",
   "name": "python",
   "nbconvert_exporter": "python",
   "pygments_lexer": "ipython3",
   "version": "3.9.7"
  }
 },
 "nbformat": 4,
 "nbformat_minor": 5
}
